{
 "cells": [
  {
   "cell_type": "markdown",
   "id": "62d02366",
   "metadata": {},
   "source": [
    "# Intro to Optimal Transport and Wasserstein Distance\n"
   ]
  },
  {
   "cell_type": "markdown",
   "id": "497c36c2",
   "metadata": {},
   "source": [
    "## Monge Problem"
   ]
  },
  {
   "cell_type": "markdown",
   "id": "63b69c22",
   "metadata": {},
   "source": [
    "### Introduction\n",
    "Let's say there is a pile of sand of measure $\\mu$ and a hole on the ground with the same volume with the measure $v$. Now, imagine a worker with a task of moving sand from the pile to the hole on the ground. He picks up sand at point $x$ with a shovel and drops it at $y = T(x)$ position in the hole. During the process, it's clear there is a distance $D(x, T(x))$ between the initial and final position of sand particle. It's reasonable to assume there is a correlation between the total cost of the moving procedure and the distance. An important point we shouldn't miss -- not only the worker travels from position $x$ to $y$, but he also carries the sand with mass of $\\mu(x)$. Hence, our cost is calculated by the following expression: $$\\mu(x) \\cdot D(x, T(x))$$\n",
    "One last thing we shouldn't forget when looking at this problem is the conservation of mass. Let's take segment $B$ from the hole which the worker needs to fill. $$ T^{-1}(B) = \\{x|T(x) \\in B\\} $$\n",
    "Let's suppose the sand in the segment $B$ will come from $A_1$, $A_2$, $A_3$ segments of the sand pile. Then, the total mass of the sand taken from all selected segments in the sand pile must be equal to the mass of the target measure: $$\\mu(A_1) + \\mu(A_2) + \\mu(A_3) = v(B)$$ This observation must be true for all the segments. In mathematical terms: $$ \\forall B, \\mu(T^{-1}(B)) = v(B) $$ Or, simply, $$ \\displaystyle T_{\\sharp }\\mu = v $$\n",
    "The question is what $\\displaystyle T_{\\sharp }\\mu = v$ minimizes $\\int{D(x,T(x)) \\cdot \\mu(dx)}$? "
   ]
  },
  {
   "cell_type": "markdown",
   "id": "a94a1ce4",
   "metadata": {},
   "source": [
    "### Formal Definition\n",
    "\n",
    "$\\Omega$ a measurable space, $c : \\Omega \\times \\Omega \\rightarrow \\R$. $\\mu, v$ two probability measures in $\\mathcal{P}(\\Omega)$.\n",
    "\n",
    "\n",
    "[Monge'81] problem: find a map $T : \\Omega \\rightarrow \\Omega$\n",
    "$$\n",
    "\\inf_{T_{\\sharp}\\mu = \\nu} \\int_{\\Omega} c(x, T(x)) \\, \\mu(dx)\n",
    "$$\n",
    "\n",
    "[Brenier'87] If $\\Omega = \\mathbb{R}^d, \\, c = || \\cdot - \\cdot ||^2,$\n",
    "\n",
    "$\\mu, v$ a.c, then $T = \\nabla u, u$ convex.\n",
    "\n",
    "![OT between two probability distributions](OTplot.png)\n",
    "\n",
    "\n",
    "[Brenier'87] For any $u$ convex $\\nabla u$ is the OT Monge map between $\\mu$ and $\\nabla u_{\\sharp} \\mu$.\n"
   ]
  },
  {
   "cell_type": "markdown",
   "id": "31710d57",
   "metadata": {},
   "source": [
    "### Monge-Ampere Equation\n",
    "\n",
    "If $\\Omega = \\mathbb{R}^d, c = ||\\cdot - \\cdot||^2, \\mu, v$ have densities $p$,$q$, then $T_{\\sharp} \\mu = v$ is equivalent to\n",
    "$$\n",
    "p(x) = q(T(x))|det J_T(x)|\n",
    "$$\n",
    "\n",
    "Monge-Ampere: find convex $f$ such that\n",
    "$$\n",
    "|\\nabla^2 f(x)| = \\frac{p(x)}{q(\\nabla f(x))}\n",
    "$$"
   ]
  },
  {
   "cell_type": "markdown",
   "id": "a6cb4470",
   "metadata": {},
   "source": [
    "## Kantorovich Problem"
   ]
  },
  {
   "cell_type": "markdown",
   "id": "fb473bc0",
   "metadata": {},
   "source": [
    "### Introduction\n",
    "Imagine a general tasked with moving soldiers from barracks to frontline positions. Each barrack `i` has supply $\\mu_i$, and each frontline `j` requires demand $v_j$. Unlike Monge’s rigid map $T(x)$, here soldiers from one barrack can be split among multiple positions, ensuring a solution always exists.\n",
    "\n",
    "To capture this, we introduce:\n",
    "\n",
    "- **Cost matrix $C$:** $C_{ij}$ is the cost of moving one soldier from barrack $i$ to frontline $j$.\n",
    "\n",
    "|   | Frontline 1 | Frontline 2 | Frontline 3 |\n",
    "|---|-------------|-------------|-------------|\n",
    "| Barrack 1 | $C_{11}$ | $C_{12}$ | $C_{13}$ |\n",
    "| Barrack 2 | $C_{21}$ | $C_{22}$ | $C_{23}$ |\n",
    "| Barrack 3 | $C_{31}$ | $C_{32}$ | $C_{33}$ |\n",
    "\n",
    "- **Transportation plan $P$:** $P_{ij}$ is the number of soldiers sent from $i$ to $j$.  \n",
    "\n",
    "Mass conservation requires:\n",
    "$$ \\sum_j P_{ij} = \\mu_i \\quad \\forall i $$\n",
    "$$ \\sum_i P_{ij} = v_j \\quad \\forall j $$\n",
    "$$ P_{ij} \\geq 0 $$\n",
    "\n",
    "The total cost is:\n",
    "$$ \\sum_{i,j} P_{ij} \\cdot C_{ij} $$\n",
    "\n",
    "**Kantorovich’s problem**: find $P$ that **minimizes** this cost, subject to supply–demand constraints.\n"
   ]
  },
  {
   "cell_type": "markdown",
   "id": "ec112a7a",
   "metadata": {},
   "source": []
  }
 ],
 "metadata": {
  "kernelspec": {
   "display_name": "Python 3",
   "language": "python",
   "name": "python3"
  },
  "language_info": {
   "codemirror_mode": {
    "name": "ipython",
    "version": 3
   },
   "file_extension": ".py",
   "mimetype": "text/x-python",
   "name": "python",
   "nbconvert_exporter": "python",
   "pygments_lexer": "ipython3",
   "version": "3.13.7"
  }
 },
 "nbformat": 4,
 "nbformat_minor": 5
}
