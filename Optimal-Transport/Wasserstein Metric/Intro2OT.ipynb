{
 "cells": [
  {
   "cell_type": "markdown",
   "id": "62d02366",
   "metadata": {},
   "source": [
    "# Intro to Optimal Transport and Wasserstein Distance\n"
   ]
  },
  {
   "cell_type": "markdown",
   "id": "497c36c2",
   "metadata": {},
   "source": [
    "## Monge Problem"
   ]
  },
  {
   "cell_type": "markdown",
   "id": "76d80cac",
   "metadata": {},
   "source": [
    "### Intuitive Introduction"
   ]
  },
  {
   "cell_type": "markdown",
   "id": "63b69c22",
   "metadata": {},
   "source": [
    "Consider a pile of sand represented by a measure $\\mu$ and a hole in the ground of equal total volume, represented by a measure $\\nu$. A worker is tasked with moving the sand to fill the hole. At each point $x$, the worker picks up a portion of sand and deposits it at a point $y = T(x)$ in the hole.\n",
    "\n",
    "The distance between these two locations is denoted by $D(x, T(x))$. It is reasonable to assume that the total cost of transportation is related to this distance. Since the worker carries an amount of sand corresponding to the local mass $\\mu(x)$, the infinitesimal cost of transport is given by\n",
    "\n",
    "$$  \n",
    "\\mu(x) \\cdot D(x, T(x)).  \n",
    "$$\n",
    "\n",
    "An essential constraint in this process is the **conservation of mass**. For any region $B$ in the target (the hole), the total amount of sand transported into $B$ must equal the mass of $\\nu(B)$. If $T^{-1}(B) = {x \\mid T(x) \\in B}$ denotes the set of points in the source that are transported into $B$, then\n",
    "\n",
    "$$  \n",
    "\\mu(T^{-1}(B)) = \\nu(B), \\quad \\forall B.  \n",
    "$$\n",
    "\n",
    "In other words, the map $T$ must push forward the measure $\\mu$ to $\\nu$, written compactly as\n",
    "\n",
    "$$  \n",
    "T_{\\sharp}\\mu = \\nu.  \n",
    "$$\n",
    "\n",
    "The central question of the **Monge problem** is to find the transport map $T$ satisfying $T_{\\sharp}\\mu = \\nu$ that minimizes the total transport cost:\n",
    "\n",
    "$$  \n",
    "\\int D(x, T(x)) , \\mu(dx).  \n",
    "$$"
   ]
  },
  {
   "cell_type": "markdown",
   "id": "34f43929",
   "metadata": {},
   "source": [
    "### Formal Definition"
   ]
  },
  {
   "cell_type": "markdown",
   "id": "ceebfe05",
   "metadata": {},
   "source": [
    "Let $\\Omega$ be a [measurable space](https://en.wikipedia.org/wiki/Measurable_space), and let  \n",
    "$c : \\Omega \\times \\Omega \\rightarrow \\mathbb{R}$ be a cost function.  \n",
    "Let $\\mu, \\nu$ be two [probability measures](https://en.wikipedia.org/wiki/Probability_measure) in $\\mathcal{P}(\\Omega)$.\n",
    "\n",
    "The **Monge problem** (Monge, 1781) is formulated as\n",
    "\n",
    "$$  \n",
    "\\inf_{T_{\\sharp}\\mu = \\nu} \\int_{\\Omega} c(x, T(x)) , \\mu(dx),  \n",
    "$$\n",
    "\n",
    "where the infimum is taken over all measurable maps $T : \\Omega \\to \\Omega$ satisfying the mass conservation constraint $T_{\\sharp}\\mu = \\nu$."
   ]
  },
  {
   "cell_type": "markdown",
   "id": "bf7b4a1d",
   "metadata": {},
   "source": [
    "### Brenier’s Theorem"
   ]
  },
  {
   "cell_type": "markdown",
   "id": "e3c9fbd0",
   "metadata": {},
   "source": [
    "**[Brenier (1987)](https://en.wikipedia.org/wiki/Polar_factorization_theorem)**  \n",
    "If $\\Omega = \\mathbb{R}^d$ and $c(x, y) = |x - y|^2$, and if both $\\mu$ and $\\nu$ are [absolutely continuous](https://en.wikipedia.org/wiki/Absolute_continuity) with respect to the Lebesgue measure, then the optimal transport map $T$ is the gradient of a convex function:  \n",
    "$$  \n",
    "T = \\nabla u, \\quad u \\text{ convex.}  \n",
    "$$\n",
    "\n",
    "<figure style=\"display: block; margin: auto; width: 50%;\">\n",
    "  <img src=\"OTplot.png\" alt=\"Figure by Marco Cuturi\"></img>\n",
    "  <figcaption style=\"text-align: center\">Figure by Marco Cuturi</figcaption>\n",
    "</figure>\n",
    "\n",
    "Moreover, for any convex function $u$, $\\nabla u$ defines the optimal transport map between $\\mu$ and $\\nabla u_{\\sharp}\\mu$."
   ]
  },
  {
   "cell_type": "markdown",
   "id": "5e1b4ebf",
   "metadata": {},
   "source": [
    "### Monge–Ampère Equation"
   ]
  },
  {
   "cell_type": "markdown",
   "id": "2c6d26ad",
   "metadata": {},
   "source": [
    "When $\\Omega = \\mathbb{R}^d$ and $c(x, y) = |x - y|^2$, suppose that $\\mu$ and $\\nu$ admit densities $p$ and $q$, respectively.  \n",
    "Then the condition $T_{\\sharp}\\mu = \\nu$ is equivalent to\n",
    "\n",
    "$$  \n",
    "p(x) = q(T(x)) , |\\det J_T(x)|,  \n",
    "$$\n",
    "\n",
    "where $J_T$ denotes the Jacobian matrix of $T$.\n",
    "\n",
    "If $T = \\nabla f$ for some convex potential $f$, the **Monge–Ampère equation** becomes\n",
    "\n",
    "$$  \n",
    "|\\nabla^2 f(x)| = \\frac{p(x)}{q(\\nabla f(x))}.  \n",
    "$$"
   ]
  },
  {
   "cell_type": "markdown",
   "id": "a6cb4470",
   "metadata": {},
   "source": [
    "## Kantorovich Problem"
   ]
  },
  {
   "cell_type": "markdown",
   "id": "fb473bc0",
   "metadata": {},
   "source": [
    "### Introduction\n",
    "Imagine a general tasked with moving soldiers from barracks to frontline positions. Each barrack `i` has supply $\\mu_i$, and each frontline `j` requires demand $v_j$. Unlike Monge’s rigid map $T(x)$, here soldiers from one barrack can be split among multiple positions, ensuring a solution always exists.\n",
    "\n",
    "To capture this, we introduce:\n",
    "\n",
    "- **Cost matrix $C$:** $C_{ij}$ is the cost of moving one soldier from barrack $i$ to frontline $j$.\n",
    "\n",
    "|   | Frontline 1 | Frontline 2 | Frontline 3 |\n",
    "|---|-------------|-------------|-------------|\n",
    "| Barrack 1 | $C_{11}$ | $C_{12}$ | $C_{13}$ |\n",
    "| Barrack 2 | $C_{21}$ | $C_{22}$ | $C_{23}$ |\n",
    "| Barrack 3 | $C_{31}$ | $C_{32}$ | $C_{33}$ |\n",
    "\n",
    "- **Transportation plan $P$:** $P_{ij}$ is the number of soldiers sent from $i$ to $j$.  \n",
    "\n",
    "Mass conservation requires:\n",
    "$$ \\sum_j P_{ij} = \\mu_i \\quad \\forall i $$\n",
    "$$ \\sum_i P_{ij} = v_j \\quad \\forall j $$\n",
    "$$ P_{ij} \\geq 0 $$\n",
    "\n",
    "The total cost is:\n",
    "$$ \\sum_{i,j} P_{ij} \\cdot C_{ij} $$\n",
    "\n",
    "**Kantorovich’s problem**: find $P$ that **minimizes** this cost, subject to supply–demand constraints.\n"
   ]
  }
 ],
 "metadata": {
  "kernelspec": {
   "display_name": "Python 3",
   "language": "python",
   "name": "python3"
  },
  "language_info": {
   "codemirror_mode": {
    "name": "ipython",
    "version": 3
   },
   "file_extension": ".py",
   "mimetype": "text/x-python",
   "name": "python",
   "nbconvert_exporter": "python",
   "pygments_lexer": "ipython3",
   "version": "3.13.7"
  }
 },
 "nbformat": 4,
 "nbformat_minor": 5
}
