{
 "cells": [
  {
   "cell_type": "markdown",
   "id": "63b69c22",
   "metadata": {},
   "source": [
    "# Intro to Optimal Transport and Wasserstein Distance\n",
    "\n",
    "### Monge problem\n",
    "Let's say there is a pile of sand of measure $\\mu$ and a hole on the ground with the same volume with the measure $v$. Now, imagine a worker with a task of moving sand from the pile to the hole on the ground. He picks up sand at point $x$ with a shovel and drops it at $y = T(x)$ position in the hole. During the process, it's clear there is a distance $D(x, T(x))$ between the initial and final position of sand particle. It's reasonable to assume there is a correlation between the total cost of the moving procedure and the distance. An important point we shouldn't miss -- not only the worker travels from position $x$ to $y$, but he also carries the sand with mass of $\\mu(x)$. Hence, our cost is calculated by the following expression: $$\\mu(x) \\cdot D(x, T(x))$$\n",
    "One last thing we shouldn't forget when looking at this problem is the conservation of mass. Let's take segment $B$ from the hole which the worker needs to fill. $$ T^{-1}(B) = \\{x|T(x) \\in B\\} $$\n",
    "Let's suppose the sand in the segment $B$ will come from $A_1$, $A_2$, $A_3$ segments of the sand pile. Then, the total mass of the sand taken from all selected segments in the sand pile must be equal to the mass of the target measure: $$\\mu(A_1) + \\mu(A_2) + \\mu(A_3) = v(B)$$ This observation must be true for all the segments. In mathematical terms: $$ \\forall B, \\mu(T^{-1}(B)) = v(B) $$ Or, simply, $$ \\displaystyle T_{\\sharp }\\mu = v $$\n",
    "The question is what $\\displaystyle T_{\\sharp }\\mu = v$ minimizes $\\int{D(x,T(x)) \\cdot \\mu(dx)}$? "
   ]
  },
  {
   "cell_type": "markdown",
   "id": "fb473bc0",
   "metadata": {},
   "source": []
  }
 ],
 "metadata": {
  "language_info": {
   "name": "python"
  }
 },
 "nbformat": 4,
 "nbformat_minor": 5
}
