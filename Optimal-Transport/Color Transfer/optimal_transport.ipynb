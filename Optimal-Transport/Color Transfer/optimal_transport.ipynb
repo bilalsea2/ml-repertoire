{
 "cells": [
  {
   "cell_type": "markdown",
   "id": "d49af268",
   "metadata": {},
   "source": [
    "# Optimal Transport - Color Transfer"
   ]
  },
  {
   "cell_type": "markdown",
   "id": "c9698bc2",
   "metadata": {},
   "source": [
    "# Color Transfer using Optimal Transport\n"
   ]
  },
  {
   "cell_type": "code",
   "execution_count": null,
   "id": "91186468",
   "metadata": {},
   "outputs": [
    {
     "name": "stdout",
     "output_type": "stream",
     "text": [
      "hi there\n"
     ]
    }
   ],
   "source": []
  }
 ],
 "metadata": {
  "kernelspec": {
   "display_name": "Python 3",
   "language": "python",
   "name": "python3"
  },
  "language_info": {
   "codemirror_mode": {
    "name": "ipython",
    "version": 3
   },
   "file_extension": ".py",
   "mimetype": "text/x-python",
   "name": "python",
   "nbconvert_exporter": "python",
   "pygments_lexer": "ipython3",
   "version": "3.11.9"
  }
 },
 "nbformat": 4,
 "nbformat_minor": 5
}
